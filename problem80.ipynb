{
 "cells": [
  {
   "cell_type": "markdown",
   "id": "75ea9e02-093a-4065-b067-dfc765b78093",
   "metadata": {},
   "source": [
    "problem 80:\n",
    "    It is well known that if the square root of a natural number is not an integer, then it is irrational.\n",
    "    The decimal expansion of such square roots is infinite without any repeating pattern at all.\n",
    "\n",
    "    The square root of two is 1.41421356237309504880..., and the digital sum of the first one hundred\n",
    "    decimal digits is 475.\n",
    "\n",
    "    For the first one hundred natural numbers, find the total of the digital sums of the first one hundred\n",
    "    decimal digits for all the irrational square roots."
   ]
  },
  {
   "cell_type": "code",
   "execution_count": 1,
   "id": "0827789e-4896-4d3c-bf65-f1e6af56be0b",
   "metadata": {},
   "outputs": [],
   "source": [
    "from decimal import getcontext, Decimal\n",
    "import math"
   ]
  },
  {
   "cell_type": "code",
   "execution_count": 2,
   "id": "fcf1bd87",
   "metadata": {},
   "outputs": [
    {
     "name": "stdout",
     "output_type": "stream",
     "text": [
      "475\n"
     ]
    }
   ],
   "source": [
    "s=0\n",
    "getcontext().prec = 101\n",
    "a=str((Decimal (2)).sqrt())\n",
    "s+=int(a[0])\n",
    "for i in range (a.index(\".\")+1, 101):\n",
    "    s+=int(a[i])\n",
    "print (s)"
   ]
  },
  {
   "cell_type": "code",
   "execution_count": 3,
   "id": "df3d163c",
   "metadata": {},
   "outputs": [
    {
     "name": "stdout",
     "output_type": "stream",
     "text": [
      "40886\n"
     ]
    }
   ],
   "source": [
    "s=0\n",
    "for j in range (1, 100):\n",
    "    if math.sqrt(j)!=int(math.sqrt(j)):\n",
    "        #print (j)\n",
    "        getcontext().prec = 102\n",
    "        a=str((Decimal (j)).sqrt())\n",
    "        s+=int(a[0])\n",
    "        for i in range (a.index(\".\")+1, 101):\n",
    "            #you have to define the 101 not len (a)-1\n",
    "            s+=int(a[i])\n",
    "print (s)"
   ]
  }
 ],
 "metadata": {
  "kernelspec": {
   "display_name": "Python 3.9.7 ('base')",
   "language": "python",
   "name": "python397jvsc74a57bd040d3a090f54c6569ab1632332b64b2c03c39dcf918b08424e98f38b5ae0af88f"
  },
  "language_info": {
   "codemirror_mode": {
    "name": "ipython",
    "version": 3
   },
   "file_extension": ".py",
   "mimetype": "text/x-python",
   "name": "python",
   "nbconvert_exporter": "python",
   "pygments_lexer": "ipython3",
   "version": "3.9.7"
  }
 },
 "nbformat": 4,
 "nbformat_minor": 5
}
