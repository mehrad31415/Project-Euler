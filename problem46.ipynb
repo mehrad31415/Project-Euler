{
 "cells": [
  {
   "cell_type": "code",
   "execution_count": 18,
   "id": "c9c49dfe",
   "metadata": {},
   "outputs": [
    {
     "name": "stdout",
     "output_type": "stream",
     "text": [
      "False\n"
     ]
    }
   ],
   "source": [
    "import math\n",
    "def isPrime (num):\n",
    "    for i in range (2,int(math.sqrt (num))+1):\n",
    "        if num % i ==0:\n",
    "            return False\n",
    "    return True\n",
    "print (isPrime (10))"
   ]
  },
  {
   "cell_type": "code",
   "execution_count": 24,
   "id": "21be8152",
   "metadata": {},
   "outputs": [
    {
     "name": "stdout",
     "output_type": "stream",
     "text": [
      "5777\n"
     ]
    }
   ],
   "source": [
    "number=9\n",
    "run=True\n",
    "while run:\n",
    "    if isPrime (number)==False:\n",
    "        half=number/2\n",
    "        for j in range (1,int(math.sqrt (half))+1):\n",
    "            a=number - (2*(j**2))\n",
    "            if isPrime (a):\n",
    "                number+=2\n",
    "                break\n",
    "        else:\n",
    "            print (number)\n",
    "            run=False\n",
    "    else:\n",
    "        number+=2\n"
   ]
  },
  {
   "cell_type": "code",
   "execution_count": null,
   "id": "9da6f80a",
   "metadata": {},
   "outputs": [],
   "source": []
  }
 ],
 "metadata": {
  "kernelspec": {
   "display_name": "Python 3.9.7 ('base')",
   "language": "python",
   "name": "python397jvsc74a57bd040d3a090f54c6569ab1632332b64b2c03c39dcf918b08424e98f38b5ae0af88f"
  },
  "language_info": {
   "codemirror_mode": {
    "name": "ipython",
    "version": 3
   },
   "file_extension": ".py",
   "mimetype": "text/x-python",
   "name": "python",
   "nbconvert_exporter": "python",
   "pygments_lexer": "ipython3",
   "version": "3.9.7"
  }
 },
 "nbformat": 4,
 "nbformat_minor": 5
}
