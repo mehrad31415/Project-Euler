{
 "cells": [
  {
   "cell_type": "markdown",
   "id": "06aa1ed7-f2d4-4e44-8592-99c3e24dc262",
   "metadata": {},
   "source": [
    "Problem 30:\n",
    "    Surprisingly there are only three numbers that can be written as the sum of fourth powers\n",
    "    of their digits:\n",
    "\n",
    "    1634 = 14 + 64 + 34 + 44\n",
    "    8208 = 84 + 24 + 04 + 84\n",
    "    9474 = 94 + 44 + 74 + 44\n",
    "    As 1 = 14 is not a sum it is not included.\n",
    "\n",
    "    The sum of these numbers is 1634 + 8208 + 9474 = 19316.\n",
    "\n",
    "    Find the sum of all the numbers that can be written as the sum of fifth powers of their digits."
   ]
  },
  {
   "cell_type": "code",
   "execution_count": 14,
   "id": "ed857d4a-5067-4d89-9d56-3a3d108b23ac",
   "metadata": {},
   "outputs": [
    {
     "data": {
      "text/plain": [
       "443839"
      ]
     },
     "execution_count": 14,
     "metadata": {},
     "output_type": "execute_result"
    }
   ],
   "source": [
    "k=0\n",
    "for i in range (2,1000000):\n",
    "    #not 1 \n",
    "    a=str(i)\n",
    "    s=0\n",
    "    for j in a:\n",
    "        s+= int(j)**5\n",
    "    if s==i:\n",
    "        k+=s\n",
    "k"
   ]
  },
  {
   "cell_type": "code",
   "execution_count": 15,
   "id": "bfbcfd0f-14c0-4fde-b017-94942fb1193a",
   "metadata": {},
   "outputs": [
    {
     "name": "stdout",
     "output_type": "stream",
     "text": [
      "True\n",
      "True\n",
      "True\n",
      "True\n",
      "True\n",
      "False\n",
      "False\n",
      "False\n",
      "False\n",
      "False\n"
     ]
    }
   ],
   "source": [
    "#how to find the the upper bound: n=number of digits\n",
    "for i in range (1,11):\n",
    "    print (i*(9**5)>= (10**i))"
   ]
  },
  {
   "cell_type": "code",
   "execution_count": null,
   "id": "8f43da1b-b5b0-4ae9-afb7-8561d5357fd4",
   "metadata": {},
   "outputs": [],
   "source": []
  }
 ],
 "metadata": {
  "kernelspec": {
   "display_name": "Python 3.9.7 ('base')",
   "language": "python",
   "name": "python397jvsc74a57bd040d3a090f54c6569ab1632332b64b2c03c39dcf918b08424e98f38b5ae0af88f"
  },
  "language_info": {
   "codemirror_mode": {
    "name": "ipython",
    "version": 3
   },
   "file_extension": ".py",
   "mimetype": "text/x-python",
   "name": "python",
   "nbconvert_exporter": "python",
   "pygments_lexer": "ipython3",
   "version": "3.9.7"
  }
 },
 "nbformat": 4,
 "nbformat_minor": 5
}
